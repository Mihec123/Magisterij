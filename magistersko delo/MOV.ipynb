{
 "cells": [
  {
   "cell_type": "code",
   "execution_count": 2,
   "metadata": {},
   "outputs": [],
   "source": [
    "def Naivno(a,b):\n",
    "    i=1\n",
    "    while True:\n",
    "        test = a^i\n",
    "        if test == b:\n",
    "            return i\n",
    "        i += 1\n",
    "        "
   ]
  },
  {
   "cell_type": "code",
   "execution_count": 8,
   "metadata": {},
   "outputs": [
    {
     "name": "stdout",
     "output_type": "stream",
     "text": [
      "83\n"
     ]
    }
   ],
   "source": [
    "def MOV(E,q,m,P,Q,st_korakov = 10):\n",
    "    \"\"\"\n",
    "    Opis:\n",
    "       Funkcija MOV rešuje problem diskretnega logaritma\n",
    "       na krivulji E, podanega s točkama P,Q.\n",
    "       Iščemo torej $k$, tako da velja $kP = Q$.\n",
    "\n",
    "     Definicija:\n",
    "       MOV(E,q,m,P,Q,st_korakov = 10)\n",
    "\n",
    "     Vhodni podatki:\n",
    "       E...Eliptična krivulja iz SAGE\n",
    "       q...modul krivulje\n",
    "       m...stevilo ki pove razsiritev prvotnega polja\n",
    "           iz GF(q) gremo v GF(q^m) (GF = Galvajevo polje)\n",
    "       P...tocka na elipticni krivulji iz SAGE\n",
    "       Q...tocka na elipticni krivulji iz SAGE\n",
    "       st_korakov...v algoritmu dobivamo rezultate po nekem modolu\n",
    "                    in moramo na koncu s pomocjo kitajskega izreka\n",
    "                    dobit koncni rezultat. Lahko pa se zgodi da vedno\n",
    "                    dobivamo po istih modulih in bi se lahko zaciklali.\n",
    "                    st_korakov omeji kolikokrat se ta del zanke izvede\n",
    "\n",
    "     Izhodni  podatek:\n",
    "       stevilo k\n",
    "    \"\"\"\n",
    "    N = P.order()\n",
    "    k = GF(q^m)\n",
    "    E1 = E.base_extend(k)#razsirimo krivuljo na vecje polje\n",
    "    P1 = E1(P)#razsirit moramo tudi tocki\n",
    "    Q1 = E1(Q)\n",
    "    \n",
    "    odgovori = [[],[]]\n",
    "    koraki = 0\n",
    "    \n",
    "    while True:\n",
    "        #vsak ta del nam da odgovor po modolu d\n",
    "        T = E1.random_element()\n",
    "        M = T.order()\n",
    "        d = gcd(N,M)\n",
    "        T1 = int(M/d)*T\n",
    "        w1 = P1.weil_pairing(T1,N)\n",
    "        w2 = Q1.weil_pairing(T1,N)\n",
    "        k = Naivno(w1,w2)\n",
    "        odgovori[0].append(k)\n",
    "        odgovori[1].append(d)\n",
    "        if lcm(odgovori[1]) >= q:\n",
    "            break\n",
    "        elif koraki > st_korakov:\n",
    "            break\n",
    "        koraki+=1\n",
    "    #uporabimo kitajski izrek o ostankih\n",
    "    k = crt(odgovori[0],odgovori[1])\n",
    "    return k\n",
    "\n",
    "\n",
    "E = EllipticCurve(GF(547),[1,0])\n",
    "P = E(67,481)\n",
    "Q = E(167,405)\n",
    "test = MOV(E,547,2,P,Q)\n",
    "print(test)\n",
    "    "
   ]
  },
  {
   "cell_type": "code",
   "execution_count": null,
   "metadata": {},
   "outputs": [],
   "source": []
  }
 ],
 "metadata": {
  "kernelspec": {
   "display_name": "SageMath 8.9",
   "language": "sage",
   "name": "sagemath"
  },
  "language_info": {
   "codemirror_mode": {
    "name": "ipython",
    "version": 2
   },
   "file_extension": ".py",
   "mimetype": "text/x-python",
   "name": "python",
   "nbconvert_exporter": "python",
   "pygments_lexer": "ipython2",
   "version": "2.7.15"
  }
 },
 "nbformat": 4,
 "nbformat_minor": 2
}
