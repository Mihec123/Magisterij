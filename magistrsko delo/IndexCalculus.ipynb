{
 "cells": [
  {
   "cell_type": "code",
   "execution_count": 1,
   "metadata": {},
   "outputs": [],
   "source": [
    "def IndexCalculus(g,h,q,baza):\n",
    "    \"\"\"\n",
    "    Opis:\n",
    "       IndexCalculus  vrne  tak $k$, da velja\n",
    "       $$g^k \\equiv h (mod q)$$, kjer je g generator\n",
    "       multiplikativne grupe $\\Z_q$.\n",
    "\n",
    "       Zgled:\n",
    "           g = 3\n",
    "           q = 1217\n",
    "           h = 37\n",
    "           baza = [-1,2,3,5,7,11,13]\n",
    "\n",
    "     Definicija:\n",
    "       IndexCalculus(g,h,q,baza)\n",
    "\n",
    "     Vhodni podatki:\n",
    "       g...generator multiplikativne grupe $\\Z_q$.\n",
    "       q...modul s katerim delamo\n",
    "       h...desna stran problema, ki ga resujemo\n",
    "       baza...baza prastevil s katerimi delamo more\n",
    "               vsebovati tudi -1\n",
    "\n",
    "     Izhodni  podatek:\n",
    "       $k$, da velja $$g^k \\equiv h (mod q)$$\n",
    "    \"\"\"\n",
    "    \n",
    "    seznam_relacij = []\n",
    "    V = VectorSpace(GF(q),len(baza)+1)\n",
    "    Z = GF(q)\n",
    "    k = 1\n",
    "    while True:\n",
    "        e0 = 0\n",
    "        st = g^k % q\n",
    "        if is_prime(st) and st not in baza:\n",
    "            st = abs(st-q)\n",
    "            e0 = 1\n",
    "        tmp = ecm.factor(st)\n",
    "        if set(tmp).issubset(set(baza)):\n",
    "            relacija = [0]*(len(baza)+1)\n",
    "            relacija[0] = e0\n",
    "            for i in range(1,len(baza)):\n",
    "                relacija[i] = tmp.count(baza[i])\n",
    "            relacija[-1] = k\n",
    "\n",
    "            seznam_relacij.append(relacija)\n",
    "            M = Matrix(Z,seznam_relacij)\n",
    "            if len(V.linear_dependence(M)) >0:\n",
    "                seznam_relacij = seznam_relacij[:-1]\n",
    "\n",
    "            if len(seznam_relacij) > len(baza):\n",
    "                break\n",
    "        k+=1\n",
    "            \n",
    "    tmp = seznam_relacij[:]\n",
    "    b = [0]*(len(baza)+1)\n",
    "    for i in range(len(baza)+1):\n",
    "        if seznam_relacij[i][0] == 1:\n",
    "            b[i] = seznam_relacij[i][-1] - ((q-1)//2)\n",
    "        else:\n",
    "            b[i] = seznam_relacij[i][-1]\n",
    "        tmp[i] = tmp[i][1:-1]\n",
    "    \n",
    "    \n",
    "    M = Matrix(IntegerModRing(q-1),tmp)\n",
    "    B = vector(IntegerModRing(q-1),b)\n",
    "    X = M.solve_right(B)\n",
    "    \n",
    "    j = 0\n",
    "    while True:\n",
    "        rez = (power_mod(g,j,q)*h) % q\n",
    "        tmp = ecm.factor(rez)\n",
    "        if set(tmp).issubset(set(baza)):\n",
    "            enacba = [0]*(len(baza)-1)\n",
    "            for i in range(1,len(baza)):\n",
    "                enacba[i-1] = tmp.count(baza[i])\n",
    "            enacba = vector(IntegerModRing(q-1),enacba)\n",
    "            \n",
    "            return( enacba*X - j)\n",
    "        j+=1\n",
    "            \n",
    "    \n",
    "    \n",
    "\n",
    "            \n",
    "        "
   ]
  },
  {
   "cell_type": "code",
   "execution_count": 3,
   "metadata": {},
   "outputs": [],
   "source": [
    "baza = [-1,2,3,5,7,11,13]\n",
    "g = 3\n",
    "q = 1217\n",
    "h = 37\n",
    "test = IndexCalculus(g,h,q,baza)"
   ]
  },
  {
   "cell_type": "code",
   "execution_count": 4,
   "metadata": {},
   "outputs": [
    {
     "data": {
      "text/plain": [
       "588"
      ]
     },
     "execution_count": 4,
     "metadata": {},
     "output_type": "execute_result"
    }
   ],
   "source": [
    "test"
   ]
  },
  {
   "cell_type": "code",
   "execution_count": 5,
   "metadata": {},
   "outputs": [
    {
     "data": {
      "text/plain": [
       "37"
      ]
     },
     "execution_count": 5,
     "metadata": {},
     "output_type": "execute_result"
    }
   ],
   "source": [
    "3^588 % 1217"
   ]
  },
  {
   "cell_type": "code",
   "execution_count": null,
   "metadata": {},
   "outputs": [],
   "source": []
  }
 ],
 "metadata": {
  "kernelspec": {
   "display_name": "SageMath 8.9",
   "language": "sage",
   "name": "sagemath"
  },
  "language_info": {
   "codemirror_mode": {
    "name": "ipython",
    "version": 2
   },
   "file_extension": ".py",
   "mimetype": "text/x-python",
   "name": "python",
   "nbconvert_exporter": "python",
   "pygments_lexer": "ipython2",
   "version": "2.7.15"
  }
 },
 "nbformat": 4,
 "nbformat_minor": 2
}
