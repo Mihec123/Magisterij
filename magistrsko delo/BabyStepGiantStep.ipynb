{
 "cells": [
  {
   "cell_type": "code",
   "execution_count": 3,
   "metadata": {},
   "outputs": [
    {
     "name": "stdout",
     "output_type": "stream",
     "text": [
      "('N: ', 137)\n"
     ]
    }
   ],
   "source": [
    "def BabyGiant(P,E,q):\n",
    "    \"\"\"\n",
    "    Opis:\n",
    "       Funkcija BabyGiant je implementacija algoritma\n",
    "       Baby step, Giant step za iskanje reda tocke P\n",
    "     Definicija:\n",
    "       BabyGiant(P)\n",
    "     Vhodni podatki:\n",
    "       P...razred Point, ki predstavlja tocko na\n",
    "           elipticni krivulji\n",
    "       q...modul po katerm delamo\n",
    "     Izhodni  podatek:\n",
    "       int k, ki predstavlja red tocke P (kP = $\\infty$)\n",
    "    \"\"\"\n",
    "    Q = (q+1)*P\n",
    "    #print(\"Q: \",Q)\n",
    "    m = int(q**(1/4))+1\n",
    "    #print(\"m: \",m)\n",
    "    seznam = []\n",
    "\n",
    "    for j in range(m+1):\n",
    "        seznam.append(j*P)\n",
    "\n",
    "\n",
    "        \n",
    "    #print(\"seznam: \",seznam)\n",
    "    tmp = (2*m)*P\n",
    "    for k in range(-m,m+1):\n",
    "        T = Q + k*tmp\n",
    "        if T in seznam:\n",
    "            j = seznam.index(T)\n",
    "            break\n",
    "        elif -1*T in seznam:\n",
    "            j = seznam.index(-1*T)\n",
    "            break\n",
    "    \n",
    "    #print(\"k: \",k)\n",
    "    #print(\"j: \",j)\n",
    "    st1 = q+1+2*m*k -j\n",
    "    st2 = q+1+2*m*k +j\n",
    "    #print(\"st1: \",st1)\n",
    "    #print(\"st2: \",st2)\n",
    "    if st1*P == E(0,1,0):      \n",
    "        M = st1\n",
    "    else:\n",
    "        M = st2\n",
    "\n",
    "    odg = pomozna(M,P,E)\n",
    "\n",
    "    return odg\n",
    "\n",
    "def pomozna(M,P,E):\n",
    "    \"\"\"\n",
    "    Opis:\n",
    "       Funkcija pomozna predstavlja rekurzivni del funkcije\n",
    "       BabyGiant\n",
    "     Definicija:\n",
    "       pomozna(M,P)\n",
    "     Vhodni podatki:\n",
    "       M...stevilo, ki ga testiramo ce predstavlja red\n",
    "           tocke P\n",
    "       P...razred Point, ki predstavlja tocko na\n",
    "           elipticni krivulji\n",
    "     Izhodni  podatek:\n",
    "       int k, ki predstavlja red tocke P (kP = $\\infty$)\n",
    "    \"\"\"\n",
    "    faktorji = ecm.factor(M)\n",
    "    #print(\"faktorji: \",faktorji)\n",
    "    for el in faktorji:\n",
    "        if (M//el)*P == E(0,1,0):\n",
    "            rez = pomozna(M//el,P,E)\n",
    "            return rez\n",
    "        else:\n",
    "            return M\n",
    "\n",
    "E = EllipticCurve(GF(547),[1,0])\n",
    "E1 = EllipticCurve(GF(547^2,'x'),[1,0])\n",
    "k = GF(547^2,'x')\n",
    "x = k.gen()\n",
    "P =E(67,481)\n",
    "T = E1(24*x + 219, 273*x + 466)\n",
    "N = BabyGiant(P,E,547)\n",
    "print(\"N: \",N)\n",
    "#M = BabyGiant(T,E1,547)\n",
    "#print(\"M: \",M)"
   ]
  },
  {
   "cell_type": "code",
   "execution_count": 4,
   "metadata": {},
   "outputs": [
    {
     "data": {
      "text/plain": [
       "Elliptic Curve defined by y^2 = x^3 + x over Finite Field of size 547"
      ]
     },
     "execution_count": 4,
     "metadata": {},
     "output_type": "execute_result"
    }
   ],
   "source": [
    "E"
   ]
  },
  {
   "cell_type": "code",
   "execution_count": 5,
   "metadata": {},
   "outputs": [
    {
     "data": {
      "text/plain": [
       "(24*x + 219 : 273*x + 466 : 1)"
      ]
     },
     "execution_count": 5,
     "metadata": {},
     "output_type": "execute_result"
    }
   ],
   "source": [
    "T"
   ]
  },
  {
   "cell_type": "code",
   "execution_count": 6,
   "metadata": {},
   "outputs": [
    {
     "data": {
      "text/plain": [
       "274"
      ]
     },
     "execution_count": 6,
     "metadata": {},
     "output_type": "execute_result"
    }
   ],
   "source": [
    "BabyGiant(T,E1,547)"
   ]
  },
  {
   "cell_type": "code",
   "execution_count": 7,
   "metadata": {},
   "outputs": [
    {
     "data": {
      "text/plain": [
       "(0 : 1 : 0)"
      ]
     },
     "execution_count": 7,
     "metadata": {},
     "output_type": "execute_result"
    }
   ],
   "source": [
    "274*T"
   ]
  },
  {
   "cell_type": "code",
   "execution_count": 8,
   "metadata": {},
   "outputs": [
    {
     "data": {
      "text/plain": [
       "(0 : 1 : 0)"
      ]
     },
     "execution_count": 8,
     "metadata": {},
     "output_type": "execute_result"
    }
   ],
   "source": [
    "137*P"
   ]
  },
  {
   "cell_type": "code",
   "execution_count": null,
   "metadata": {},
   "outputs": [],
   "source": []
  }
 ],
 "metadata": {
  "kernelspec": {
   "display_name": "SageMath 8.9",
   "language": "sage",
   "name": "sagemath"
  },
  "language_info": {
   "codemirror_mode": {
    "name": "ipython",
    "version": 2
   },
   "file_extension": ".py",
   "mimetype": "text/x-python",
   "name": "python",
   "nbconvert_exporter": "python",
   "pygments_lexer": "ipython2",
   "version": "2.7.15"
  }
 },
 "nbformat": 4,
 "nbformat_minor": 2
}
